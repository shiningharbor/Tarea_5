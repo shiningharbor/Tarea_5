{
  "nbformat": 4,
  "nbformat_minor": 0,
  "metadata": {
    "colab": {
      "name": "Tarea5.ipynb",
      "provenance": [],
      "authorship_tag": "ABX9TyOIpCCol5Jz+WRh7P99qaxh",
      "include_colab_link": true
    },
    "kernelspec": {
      "name": "python3",
      "display_name": "Python 3"
    }
  },
  "cells": [
    {
      "cell_type": "markdown",
      "metadata": {
        "id": "view-in-github",
        "colab_type": "text"
      },
      "source": [
        "<a href=\"https://colab.research.google.com/github/shiningharbor/Tarea_5/blob/main/Tarea5.ipynb\" target=\"_parent\"><img src=\"https://colab.research.google.com/assets/colab-badge.svg\" alt=\"Open In Colab\"/></a>"
      ]
    },
    {
      "cell_type": "code",
      "metadata": {
        "colab": {
          "base_uri": "https://localhost:8080/"
        },
        "id": "Jc8sNFM2P8BG",
        "outputId": "50127b92-851a-46c0-8ec8-f92267fe18d9"
      },
      "source": [
        "salario= []\r\n",
        "cont= 0\r\n",
        "for i in range(10):\r\n",
        "  salario.append(float(input(f\"Salario: $\")))\r\n",
        "for i in salario:\r\n",
        "  cont += i\r\n",
        "  print(f\"Nomina total: ${cont}\")"
      ],
      "execution_count": 1,
      "outputs": [
        {
          "output_type": "stream",
          "text": [
            "Salario: $1500\n",
            "Salario: $120\n",
            "Salario: $51234\n",
            "Salario: $212\n",
            "Salario: $456\n",
            "Salario: $123\n",
            "Salario: $546\n",
            "Salario: $213\n",
            "Salario: $5464\n",
            "Salario: $13132\n",
            "Nomina total: $1500.0\n",
            "Nomina total: $1620.0\n",
            "Nomina total: $52854.0\n",
            "Nomina total: $53066.0\n",
            "Nomina total: $53522.0\n",
            "Nomina total: $53645.0\n",
            "Nomina total: $54191.0\n",
            "Nomina total: $54404.0\n",
            "Nomina total: $59868.0\n",
            "Nomina total: $73000.0\n"
          ],
          "name": "stdout"
        }
      ]
    },
    {
      "cell_type": "code",
      "metadata": {
        "colab": {
          "base_uri": "https://localhost:8080/"
        },
        "id": "WkddTMurQ07g",
        "outputId": "8f7b1af2-299f-4bd0-bd5a-880b4dc51e30"
      },
      "source": [
        "total = 0\r\n",
        "flag = 1.0 \r\n",
        "while flag >0.0:\r\n",
        "  aux = float(input(\"Monto: $\"))\r\n",
        "  total += (aux if aux > 0.0 else 0.0)\r\n",
        "  flag = aux\r\n",
        "print(f\"El total de gastos es: ${total}\")\r\n"
      ],
      "execution_count": 2,
      "outputs": [
        {
          "output_type": "stream",
          "text": [
            "Moonto: $1504\n",
            "Moonto: $1350\n",
            "Moonto: $0\n",
            "El total de gastos es: $2854.0\n"
          ],
          "name": "stdout"
        }
      ]
    }
  ]
}